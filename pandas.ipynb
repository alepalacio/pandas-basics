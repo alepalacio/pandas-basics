{
  "nbformat": 4,
  "nbformat_minor": 0,
  "metadata": {
    "colab": {
      "provenance": [],
      "authorship_tag": "ABX9TyOqGPhBqncTpQeAbIsfd79n",
      "include_colab_link": true
    },
    "kernelspec": {
      "name": "python3",
      "display_name": "Python 3"
    },
    "language_info": {
      "name": "python"
    }
  },
  "cells": [
    {
      "cell_type": "markdown",
      "metadata": {
        "id": "view-in-github",
        "colab_type": "text"
      },
      "source": [
        "<a href=\"https://colab.research.google.com/github/alepalacio/pandas-basics/blob/develop/pandas.ipynb\" target=\"_parent\"><img src=\"https://colab.research.google.com/assets/colab-badge.svg\" alt=\"Open In Colab\"/></a>"
      ]
    },
    {
      "cell_type": "code",
      "execution_count": 93,
      "metadata": {
        "id": "gSpGGnTajGse"
      },
      "outputs": [],
      "source": [
        "import pandas as pd\n",
        "import matplotlib.pyplot as plt"
      ]
    },
    {
      "cell_type": "code",
      "source": [
        "df = pd.read_csv('sample_data/puertas_4781.csv')\n",
        "df"
      ],
      "metadata": {
        "id": "sEJJQWmqjLqI"
      },
      "execution_count": null,
      "outputs": []
    },
    {
      "cell_type": "code",
      "source": [
        "df.head()\n",
        "df.tail()\n",
        "df[\"barrio\"]\n",
        "df[[\"barrio\",\"parcela\"]]\n",
        "df[[\"barrio\",\"parcela\"]].head()"
      ],
      "metadata": {
        "id": "Hcorkrg4jtbI"
      },
      "execution_count": null,
      "outputs": []
    },
    {
      "cell_type": "code",
      "source": [
        "df[df.barrio == 'Barrio 31 Mugica']"
      ],
      "metadata": {
        "id": "cquynL3Zk8lQ"
      },
      "execution_count": null,
      "outputs": []
    },
    {
      "cell_type": "code",
      "source": [
        "df[df.id_pue < 10]"
      ],
      "metadata": {
        "id": "YzldRZTLlTPG"
      },
      "execution_count": null,
      "outputs": []
    },
    {
      "cell_type": "code",
      "source": [
        "df[df[\"id_pue\"] > 90]"
      ],
      "metadata": {
        "id": "C5Q412jWlgHc"
      },
      "execution_count": null,
      "outputs": []
    },
    {
      "cell_type": "markdown",
      "source": [
        "# FILTROS"
      ],
      "metadata": {
        "id": "MYNf65GWmGjE"
      }
    },
    {
      "cell_type": "code",
      "source": [
        "df[(df[\"id_pue\"] < 10) & (df[\"barrio\"] == 'Barrio 31 Mugica')]"
      ],
      "metadata": {
        "id": "qJxJ4COWmIz0"
      },
      "execution_count": null,
      "outputs": []
    },
    {
      "cell_type": "code",
      "source": [
        "df[(df.id_pue < 10) & (df.barrio != 'Barrio 31 Mugica')]"
      ],
      "metadata": {
        "id": "4tXGvd-9nw5O"
      },
      "execution_count": null,
      "outputs": []
    },
    {
      "cell_type": "code",
      "source": [
        "df[(df.barrio.str.contains('Mugica'))]"
      ],
      "metadata": {
        "id": "mkgDqCEYoXgk"
      },
      "execution_count": null,
      "outputs": []
    },
    {
      "cell_type": "code",
      "source": [
        "df[(df.sector.str.startswith('PE'))]"
      ],
      "metadata": {
        "id": "mnZaligPoyHi"
      },
      "execution_count": null,
      "outputs": []
    },
    {
      "cell_type": "code",
      "source": [
        "df[(~df.sector.str.startswith('PE'))]"
      ],
      "metadata": {
        "id": "s8qSqFpKpEOU"
      },
      "execution_count": null,
      "outputs": []
    },
    {
      "cell_type": "code",
      "source": [
        "calles = [\"ALPACA\",\"VICUÑA\"]\n",
        "df[df.calle.isin(calles)]"
      ],
      "metadata": {
        "id": "WefUQ2T0pqiy"
      },
      "execution_count": null,
      "outputs": []
    },
    {
      "cell_type": "code",
      "source": [
        "df.iloc[:100]"
      ],
      "metadata": {
        "id": "AMNNOIguqEs0"
      },
      "execution_count": null,
      "outputs": []
    },
    {
      "cell_type": "code",
      "source": [
        "df.iloc[100:]"
      ],
      "metadata": {
        "id": "mkGrxuCZqSoQ"
      },
      "execution_count": null,
      "outputs": []
    },
    {
      "cell_type": "code",
      "source": [
        "df.iloc[1]"
      ],
      "metadata": {
        "id": "HYnmAWadrFfe"
      },
      "execution_count": null,
      "outputs": []
    },
    {
      "cell_type": "code",
      "source": [
        "df.iloc[[1,1000]]"
      ],
      "metadata": {
        "id": "L5a6LSB4rItc"
      },
      "execution_count": null,
      "outputs": []
    },
    {
      "cell_type": "code",
      "source": [
        "def editar_barrio(barrio):\n",
        "  barrio_editado = f\"{barrio} editado\"\n",
        "  return barrio_editado\n",
        "\n",
        "df[\"barrio_editado\"] =df[\"barrio\"].apply(editar_barrio)\n",
        "df"
      ],
      "metadata": {
        "id": "cMy-IdnKss-b"
      },
      "execution_count": null,
      "outputs": []
    },
    {
      "cell_type": "code",
      "source": [
        "df[\"barrio_sector\"] = f\"{df.barrio} - {df.sector}\"\n",
        "df"
      ],
      "metadata": {
        "id": "6ukCrzqgwC6C"
      },
      "execution_count": null,
      "outputs": []
    },
    {
      "cell_type": "code",
      "source": [
        "df.drop([\"barrio_editado\"], axis=1)"
      ],
      "metadata": {
        "id": "jZVpf1mVwZcK"
      },
      "execution_count": null,
      "outputs": []
    },
    {
      "cell_type": "code",
      "source": [
        "df.drop([1,2], axis=0)"
      ],
      "metadata": {
        "id": "cQ5-vE9Oxd0m"
      },
      "execution_count": null,
      "outputs": []
    },
    {
      "cell_type": "code",
      "source": [
        "df.columns\n",
        "len(df.columns)"
      ],
      "metadata": {
        "id": "Ceq9NJ3_5My8"
      },
      "execution_count": null,
      "outputs": []
    },
    {
      "cell_type": "code",
      "source": [
        "df.shape"
      ],
      "metadata": {
        "id": "rrZJFeX65cuU"
      },
      "execution_count": null,
      "outputs": []
    },
    {
      "cell_type": "code",
      "source": [
        "df.info()"
      ],
      "metadata": {
        "id": "VUjbBABg6cOj"
      },
      "execution_count": null,
      "outputs": []
    },
    {
      "cell_type": "code",
      "source": [
        "df.describe()"
      ],
      "metadata": {
        "id": "XGp0JtZ87o8Y"
      },
      "execution_count": null,
      "outputs": []
    },
    {
      "cell_type": "code",
      "source": [
        "df[[\"barrio\", \"sector\"]]"
      ],
      "metadata": {
        "id": "OznTCrVq8NKb"
      },
      "execution_count": null,
      "outputs": []
    },
    {
      "cell_type": "code",
      "source": [
        "df.sort_values(by=[\"barrio\"], ascending=[False])"
      ],
      "metadata": {
        "id": "mmYQa0Zg8hMU"
      },
      "execution_count": null,
      "outputs": []
    },
    {
      "cell_type": "code",
      "source": [
        "df.groupby([\"sector\"]).describe()"
      ],
      "metadata": {
        "id": "Ubw9zP729Zyr"
      },
      "execution_count": null,
      "outputs": []
    },
    {
      "cell_type": "code",
      "source": [
        "df[df[\"sector\"] == 'FE - Ferroviario']"
      ],
      "metadata": {
        "id": "RrmvReJh-SO-"
      },
      "execution_count": null,
      "outputs": []
    },
    {
      "cell_type": "code",
      "source": [
        "df[df[\"sector\"] == 'FE - Ferroviario'].describe()"
      ],
      "metadata": {
        "id": "IC1oyVGF-od7"
      },
      "execution_count": null,
      "outputs": []
    },
    {
      "cell_type": "code",
      "source": [
        "f, ax = plt.subplots(figsize=(16,6))\n",
        "\n",
        "ax.bar(\n",
        "    x = df.barrio,\n",
        "    height = df[\"id_sec\"],\n",
        "    color = 'red',\n",
        ")"
      ],
      "metadata": {
        "id": "faDhSCIv_vdT"
      },
      "execution_count": null,
      "outputs": []
    }
  ]
}